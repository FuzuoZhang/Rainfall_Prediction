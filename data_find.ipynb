{
 "cells": [
  {
   "cell_type": "code",
   "execution_count": 2,
   "metadata": {},
   "outputs": [],
   "source": [
    "import pandas as pd\n",
    "import numpy as np\n"
   ]
  },
  {
   "cell_type": "code",
   "execution_count": 4,
   "metadata": {},
   "outputs": [],
   "source": [
    "filename = './hourly-weather-surface/sudeste.csv'\n",
    "data = pd.read_csv(filename)"
   ]
  },
  {
   "cell_type": "code",
   "execution_count": 8,
   "metadata": {
    "scrolled": true
   },
   "outputs": [],
   "source": [
    "groups = data.groupby(['wsid'])"
   ]
  },
  {
   "cell_type": "code",
   "execution_count": 9,
   "metadata": {},
   "outputs": [
    {
     "data": {
      "text/plain": [
       "wsid\n",
       "178     78048\n",
       "303     86952\n",
       "304     80184\n",
       "305     87048\n",
       "306     86880\n",
       "307     87096\n",
       "308     87096\n",
       "309     72648\n",
       "310     72552\n",
       "311     44016\n",
       "312    121176\n",
       "313    120840\n",
       "314    120840\n",
       "315    120864\n",
       "316    120936\n",
       "317    103296\n",
       "318     96816\n",
       "319     92976\n",
       "320     91080\n",
       "321     89232\n",
       "322     90408\n",
       "323     89592\n",
       "324     89472\n",
       "325     88440\n",
       "326     81984\n",
       "327     89544\n",
       "328     89472\n",
       "329     87456\n",
       "330     88656\n",
       "331     88632\n",
       "        ...  \n",
       "394    127584\n",
       "395    119712\n",
       "396    121008\n",
       "397     88272\n",
       "398     89424\n",
       "399     88632\n",
       "400     89304\n",
       "401     88800\n",
       "402     88464\n",
       "403     88392\n",
       "404     87888\n",
       "405     87792\n",
       "406     87936\n",
       "407     85752\n",
       "408     86136\n",
       "409     79872\n",
       "410     79680\n",
       "411     79584\n",
       "412     77880\n",
       "413     77976\n",
       "414     81192\n",
       "415     78024\n",
       "416     78168\n",
       "417     73968\n",
       "418     71760\n",
       "419     72288\n",
       "420     74016\n",
       "421     55104\n",
       "422     71952\n",
       "423     48312\n",
       "Length: 122, dtype: int64"
      ]
     },
     "execution_count": 9,
     "metadata": {},
     "output_type": "execute_result"
    }
   ],
   "source": [
    "groups.size()"
   ]
  },
  {
   "cell_type": "code",
   "execution_count": 11,
   "metadata": {},
   "outputs": [
    {
     "data": {
      "text/plain": [
       "pandas.core.series.Series"
      ]
     },
     "execution_count": 11,
     "metadata": {},
     "output_type": "execute_result"
    }
   ],
   "source": [
    "lens_id = groups.size()\n",
    "type(lens_id)"
   ]
  },
  {
   "cell_type": "code",
   "execution_count": 12,
   "metadata": {},
   "outputs": [
    {
     "data": {
      "text/plain": [
       "array([ 78048,  86952,  80184,  87048,  86880,  87096,  87096,  72648,\n",
       "        72552,  44016, 121176, 120840, 120840, 120864, 120936, 103296,\n",
       "        96816,  92976,  91080,  89232,  90408,  89592,  89472,  88440,\n",
       "        81984,  89544,  89472,  87456,  88656,  88632,  88752,  88704,\n",
       "        81240,  88560,  88536,  81888,  86280,  86184,  81912,  81816,\n",
       "        80280,  72432,  81840,  81744,  84800,  77928,  80376,  79632,\n",
       "        81480,  77856,  81408,  81048,  80880,  81144,  83784,  79440,\n",
       "        79536,  77784,  79320,  80976,  82032,  72936,  52752,  34680,\n",
       "         2400,   9768,   9864,   2712,  24216, 143376, 121824, 122256,\n",
       "       121536,  87840,  87816,  87888,  87720,  87168,  87768,  86928,\n",
       "        86496,  72768,  83016,  52944,   2760,   2880,  82176,  15336,\n",
       "         9600,   9480,  89304, 132264, 127584, 119712, 121008,  88272,\n",
       "        89424,  88632,  89304,  88800,  88464,  88392,  87888,  87792,\n",
       "        87936,  85752,  86136,  79872,  79680,  79584,  77880,  77976,\n",
       "        81192,  78024,  78168,  73968,  71760,  72288,  74016,  55104,\n",
       "        71952,  48312], dtype=int64)"
      ]
     },
     "execution_count": 12,
     "metadata": {},
     "output_type": "execute_result"
    }
   ],
   "source": [
    "lens = np.array(lens_id)\n",
    "lens"
   ]
  },
  {
   "cell_type": "code",
   "execution_count": 13,
   "metadata": {},
   "outputs": [
    {
     "data": {
      "text/plain": [
       "array(['A333', 'A612', 'A613', 'A614', 'A615', 'A616', 'A617', 'A622',\n",
       "       'A623', 'A657', 'A502', 'A505', 'A506', 'A507', 'A508', 'A509',\n",
       "       'A510', 'A511', 'A512', 'A513', 'A514', 'A515', 'A516', 'A517',\n",
       "       'A518', 'A519', 'A520', 'A521', 'A522', 'A523', 'A524', 'A525',\n",
       "       'A526', 'A527', 'A528', 'A529', 'A530', 'A531', 'A532', 'A533',\n",
       "       'A534', 'A535', 'A536', 'A537', 'A538', 'A539', 'A540', 'A541',\n",
       "       'A542', 'A543', 'A544', 'A545', 'A546', 'A547', 'A548', 'A549',\n",
       "       'A550', 'A551', 'A552', 'A553', 'A554', 'A555', 'A556', 'A557',\n",
       "       'A559', 'A560', 'A561', 'A569', 'F501', 'A601', 'A602', 'A603',\n",
       "       'A604', 'A606', 'A620', 'A608', 'A609', 'A610', 'A611', 'A618',\n",
       "       'A619', 'A621', 'A624', 'A625', 'A903', 'A652', 'A636', 'A659',\n",
       "       'A667', 'A701', 'A705', 'A706', 'A707', 'A708', 'A711', 'A712',\n",
       "       'A713', 'A714', 'A715', 'A716', 'A718', 'A725', 'A726', 'A727',\n",
       "       'A728', 'A729', 'A733', 'A734', 'A735', 'A736', 'A737', 'A738',\n",
       "       'A739', 'A740', 'A741', 'ZZZ3', 'A746', 'A747', 'A748', 'A753',\n",
       "       'A755'], dtype=object)"
      ]
     },
     "execution_count": 13,
     "metadata": {},
     "output_type": "execute_result"
    }
   ],
   "source": [
    "data.loc[:,'inme'].unique()"
   ]
  },
  {
   "cell_type": "code",
   "execution_count": 14,
   "metadata": {},
   "outputs": [
    {
     "data": {
      "text/plain": [
       "array(['RJ', 'ES', 'MG', 'SP'], dtype=object)"
      ]
     },
     "execution_count": 14,
     "metadata": {},
     "output_type": "execute_result"
    }
   ],
   "source": [
    "data.loc[:,'prov'].unique()"
   ]
  },
  {
   "cell_type": "code",
   "execution_count": null,
   "metadata": {},
   "outputs": [],
   "source": []
  }
 ],
 "metadata": {
  "kernelspec": {
   "display_name": "Python 3",
   "language": "python",
   "name": "python3"
  },
  "language_info": {
   "codemirror_mode": {
    "name": "ipython",
    "version": 3
   },
   "file_extension": ".py",
   "mimetype": "text/x-python",
   "name": "python",
   "nbconvert_exporter": "python",
   "pygments_lexer": "ipython3",
   "version": "3.7.0"
  },
  "toc": {
   "base_numbering": 1,
   "nav_menu": {},
   "number_sections": true,
   "sideBar": true,
   "skip_h1_title": false,
   "title_cell": "Table of Contents",
   "title_sidebar": "Contents",
   "toc_cell": false,
   "toc_position": {},
   "toc_section_display": true,
   "toc_window_display": false
  }
 },
 "nbformat": 4,
 "nbformat_minor": 2
}
